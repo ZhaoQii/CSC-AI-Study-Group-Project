{
 "cells": [
  {
   "cell_type": "markdown",
   "metadata": {
    "collapsed": true
   },
   "source": [
    "# Qi's AI Group Assignment"
   ]
  },
  {
   "cell_type": "code",
   "execution_count": 1,
   "metadata": {
    "collapsed": true
   },
   "outputs": [],
   "source": [
    "import numpy as np\n",
    "import tensorflow as tf\n",
    "import pandas as pd\n",
    "import scipy as sp\n",
    "from tensorflow.examples.tutorials.mnist import input_data"
   ]
  },
  {
   "cell_type": "code",
   "execution_count": 2,
   "metadata": {
    "scrolled": true
   },
   "outputs": [
    {
     "name": "stdout",
     "output_type": "stream",
     "text": [
      "Extracting MNIST/train-images-idx3-ubyte.gz\n",
      "Extracting MNIST/train-labels-idx1-ubyte.gz\n",
      "Extracting MNIST/t10k-images-idx3-ubyte.gz\n",
      "Extracting MNIST/t10k-labels-idx1-ubyte.gz\n"
     ]
    }
   ],
   "source": [
    "mnist = input_data.read_data_sets(\"MNIST\", one_hot=True)"
   ]
  },
  {
   "cell_type": "code",
   "execution_count": 3,
   "metadata": {
    "collapsed": true
   },
   "outputs": [],
   "source": [
    "learning_rate = 0.5\n",
    "epochs = 20\n",
    "batch_size = 100\n",
    "x = tf.placeholder(tf.float32, [None, 784])\n",
    "y = tf.placeholder(tf.float32, [None, 10])\n",
    "W1 = tf.Variable(tf.random_normal([784, 300], stddev=0.03), name='W1')\n",
    "b1 = tf.Variable(tf.random_normal([300]), name='b1')\n",
    "W2 = tf.Variable(tf.random_normal([300, 50], stddev=0.03), name='W2')\n",
    "b2 = tf.Variable(tf.random_normal([50]), name='b2')\n",
    "W3 = tf.Variable(tf.random_normal([50, 10], stddev=0.03), name='W3')\n",
    "b3 = tf.Variable(tf.random_normal([10]), name='b3')\n",
    "hidden_out = tf.add(tf.matmul(x, W1), b1)\n",
    "hidden_out = tf.nn.relu(hidden_out)\n",
    "hidden_out2 = tf.add(tf.matmul(hidden_out, W2), b2)\n",
    "hidden_out2 = tf.nn.relu(hidden_out2)\n",
    "y_ = tf.nn.softmax(tf.add(tf.matmul(hidden_out2, W3), b3))\n",
    "y_clipped = tf.clip_by_value(y_, 1e-10, 0.9999999)\n",
    "cross_entropy = -tf.reduce_mean(tf.reduce_sum(y * tf.log(y_clipped)\n",
    "                         + (1 - y) * tf.log(1 - y_clipped), axis=1))\n",
    "optimiser = tf.train.GradientDescentOptimizer(learning_rate=learning_rate).minimize(cross_entropy)\n",
    "init_op = tf.global_variables_initializer()\n",
    "\n",
    "correct_prediction = tf.equal(tf.argmax(y, 1), tf.argmax(y_, 1))\n",
    "accuracy = tf.reduce_mean(tf.cast(correct_prediction, tf.float32))"
   ]
  },
  {
   "cell_type": "code",
   "execution_count": 4,
   "metadata": {
    "scrolled": true
   },
   "outputs": [
    {
     "name": "stdout",
     "output_type": "stream",
     "text": [
      "Epoch: 1 cost = 0.839\n",
      "Epoch: 2 cost = 0.243\n",
      "Epoch: 3 cost = 0.177\n",
      "Epoch: 4 cost = 0.137\n",
      "Epoch: 5 cost = 0.115\n",
      "Epoch: 6 cost = 0.092\n",
      "Epoch: 7 cost = 0.083\n",
      "Epoch: 8 cost = 0.074\n",
      "Epoch: 9 cost = 0.059\n",
      "Epoch: 10 cost = 0.055\n",
      "Epoch: 11 cost = 0.048\n",
      "Epoch: 12 cost = 0.049\n",
      "Epoch: 13 cost = 0.042\n",
      "Epoch: 14 cost = 0.036\n",
      "Epoch: 15 cost = 0.029\n",
      "Epoch: 16 cost = 0.029\n",
      "Epoch: 17 cost = 0.030\n",
      "Epoch: 18 cost = 0.029\n",
      "Epoch: 19 cost = 0.026\n",
      "Epoch: 20 cost = 0.024\n",
      "0.979\n"
     ]
    }
   ],
   "source": [
    "with tf.Session() as sess:\n",
    "    sess.run(init_op)\n",
    "    total_batch = int(len(mnist.train.labels) / batch_size)\n",
    "    for epoch in range(epochs):\n",
    "            avg_cost = 0\n",
    "            for i in range(total_batch):\n",
    "                batch_x, batch_y = mnist.train.next_batch(batch_size=batch_size)\n",
    "                _, c = sess.run([optimiser, cross_entropy], feed_dict={x: batch_x, y: batch_y})\n",
    "                avg_cost += c / total_batch\n",
    "            print(\"Epoch:\", (epoch + 1), \"cost =\", \"{:.3f}\".format(avg_cost))\n",
    "    print(sess.run(accuracy, feed_dict={x: mnist.test.images, y: mnist.test.labels}))"
   ]
  },
  {
   "cell_type": "markdown",
   "metadata": {},
   "source": [
    "### Summary:   \n",
    "Although I am quite familiar with python and did some projects in machine learning, I never reached tensorflow before. This is the first time I get my hand dirty in it which starts a new journey. Hopefully in AI study group with all altogether, I could gain much more and deeper knowledge in all these fascinating stuff.\n",
    "\n",
    "### Reference:   \n",
    "* http://ataspinar.com/2017/08/15/building-convolutional-neural-networks-with-tensorflow/   \n",
    "* http://adventuresinmachinelearning.com/python-tensorflow-tutorial/   "
   ]
  }
 ],
 "metadata": {
  "anaconda-cloud": {},
  "kernelspec": {
   "display_name": "Python [Root]",
   "language": "python",
   "name": "Python [Root]"
  },
  "language_info": {
   "codemirror_mode": {
    "name": "ipython",
    "version": 3
   },
   "file_extension": ".py",
   "mimetype": "text/x-python",
   "name": "python",
   "nbconvert_exporter": "python",
   "pygments_lexer": "ipython3",
   "version": "3.5.2"
  }
 },
 "nbformat": 4,
 "nbformat_minor": 2
}
